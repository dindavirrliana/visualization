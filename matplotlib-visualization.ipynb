{
  "nbformat": 4,
  "nbformat_minor": 0,
  "metadata": {
    "colab": {
      "provenance": []
    },
    "kernelspec": {
      "name": "python3",
      "display_name": "Python 3"
    },
    "language_info": {
      "name": "python"
    },
    "accelerator": "GPU"
  },
  "cells": [
    {
      "cell_type": "markdown",
      "metadata": {
        "id": "wEcz2HzNfQ7S"
      },
      "source": [
        "# **MATPLOTLIB** <br>\n",
        "\n",
        "\n",
        "1. Tampilkan data penjualan manufacture= audi, model, Sales_in_thousands, Price_in_thousands\n",
        "2. buat lah plot penjualan audi x = model y= Sales_in_thousands\n",
        "\n",
        "3. plot dua macam, dari matplotlib dan juga Seaborn\n",
        "\n",
        "4. plot harus lengkap dengan label dan title\n",
        "\n",
        "5. plot wajib pie"
      ]
    },
    {
      "cell_type": "code",
      "metadata": {
        "id": "oO-Jds3FfKXh"
      },
      "source": [
        "import pandas as pd\n",
        "import seaborn as sns\n",
        "import numpy as np\n",
        "import matplotlib.pyplot as plt"
      ],
      "execution_count": null,
      "outputs": []
    },
    {
      "cell_type": "code",
      "metadata": {
        "colab": {
          "base_uri": "https://localhost:8080/",
          "height": 439
        },
        "id": "j4_j8cVdfwSe",
        "outputId": "95c55fab-1b12-4014-bd6d-b991bfa85ab4"
      },
      "source": [
        "data=('/content/drive/MyDrive/Car_sales.csv')\n",
        "data\n",
        "df = pd.read_csv(data)\n",
        "df"
      ],
      "execution_count": null,
      "outputs": [
        {
          "output_type": "execute_result",
          "data": {
            "text/html": [
              "<div>\n",
              "<style scoped>\n",
              "    .dataframe tbody tr th:only-of-type {\n",
              "        vertical-align: middle;\n",
              "    }\n",
              "\n",
              "    .dataframe tbody tr th {\n",
              "        vertical-align: top;\n",
              "    }\n",
              "\n",
              "    .dataframe thead th {\n",
              "        text-align: right;\n",
              "    }\n",
              "</style>\n",
              "<table border=\"1\" class=\"dataframe\">\n",
              "  <thead>\n",
              "    <tr style=\"text-align: right;\">\n",
              "      <th></th>\n",
              "      <th>Manufacturer</th>\n",
              "      <th>Model</th>\n",
              "      <th>Sales_in_thousands</th>\n",
              "      <th>__year_resale_value</th>\n",
              "      <th>Vehicle_type</th>\n",
              "      <th>Price_in_thousands</th>\n",
              "      <th>Engine_size</th>\n",
              "      <th>Horsepower</th>\n",
              "      <th>Wheelbase</th>\n",
              "      <th>Width</th>\n",
              "      <th>Length</th>\n",
              "      <th>Curb_weight</th>\n",
              "      <th>Fuel_capacity</th>\n",
              "      <th>Fuel_efficiency</th>\n",
              "      <th>Latest_Launch</th>\n",
              "      <th>Power_perf_factor</th>\n",
              "    </tr>\n",
              "  </thead>\n",
              "  <tbody>\n",
              "    <tr>\n",
              "      <th>0</th>\n",
              "      <td>Acura</td>\n",
              "      <td>Integra</td>\n",
              "      <td>16.919</td>\n",
              "      <td>16.360</td>\n",
              "      <td>Passenger</td>\n",
              "      <td>21.50</td>\n",
              "      <td>1.8</td>\n",
              "      <td>140.0</td>\n",
              "      <td>101.2</td>\n",
              "      <td>67.3</td>\n",
              "      <td>172.4</td>\n",
              "      <td>2.639</td>\n",
              "      <td>13.2</td>\n",
              "      <td>28.0</td>\n",
              "      <td>2/2/2012</td>\n",
              "      <td>58.280150</td>\n",
              "    </tr>\n",
              "    <tr>\n",
              "      <th>1</th>\n",
              "      <td>Acura</td>\n",
              "      <td>TL</td>\n",
              "      <td>39.384</td>\n",
              "      <td>19.875</td>\n",
              "      <td>Passenger</td>\n",
              "      <td>28.40</td>\n",
              "      <td>3.2</td>\n",
              "      <td>225.0</td>\n",
              "      <td>108.1</td>\n",
              "      <td>70.3</td>\n",
              "      <td>192.9</td>\n",
              "      <td>3.517</td>\n",
              "      <td>17.2</td>\n",
              "      <td>25.0</td>\n",
              "      <td>6/3/2011</td>\n",
              "      <td>91.370778</td>\n",
              "    </tr>\n",
              "    <tr>\n",
              "      <th>2</th>\n",
              "      <td>Acura</td>\n",
              "      <td>CL</td>\n",
              "      <td>14.114</td>\n",
              "      <td>18.225</td>\n",
              "      <td>Passenger</td>\n",
              "      <td>NaN</td>\n",
              "      <td>3.2</td>\n",
              "      <td>225.0</td>\n",
              "      <td>106.9</td>\n",
              "      <td>70.6</td>\n",
              "      <td>192.0</td>\n",
              "      <td>3.470</td>\n",
              "      <td>17.2</td>\n",
              "      <td>26.0</td>\n",
              "      <td>1/4/2012</td>\n",
              "      <td>NaN</td>\n",
              "    </tr>\n",
              "    <tr>\n",
              "      <th>3</th>\n",
              "      <td>Acura</td>\n",
              "      <td>RL</td>\n",
              "      <td>8.588</td>\n",
              "      <td>29.725</td>\n",
              "      <td>Passenger</td>\n",
              "      <td>42.00</td>\n",
              "      <td>3.5</td>\n",
              "      <td>210.0</td>\n",
              "      <td>114.6</td>\n",
              "      <td>71.4</td>\n",
              "      <td>196.6</td>\n",
              "      <td>3.850</td>\n",
              "      <td>18.0</td>\n",
              "      <td>22.0</td>\n",
              "      <td>3/10/2011</td>\n",
              "      <td>91.389779</td>\n",
              "    </tr>\n",
              "    <tr>\n",
              "      <th>4</th>\n",
              "      <td>Audi</td>\n",
              "      <td>A4</td>\n",
              "      <td>20.397</td>\n",
              "      <td>22.255</td>\n",
              "      <td>Passenger</td>\n",
              "      <td>23.99</td>\n",
              "      <td>1.8</td>\n",
              "      <td>150.0</td>\n",
              "      <td>102.6</td>\n",
              "      <td>68.2</td>\n",
              "      <td>178.0</td>\n",
              "      <td>2.998</td>\n",
              "      <td>16.4</td>\n",
              "      <td>27.0</td>\n",
              "      <td>10/8/2011</td>\n",
              "      <td>62.777639</td>\n",
              "    </tr>\n",
              "    <tr>\n",
              "      <th>...</th>\n",
              "      <td>...</td>\n",
              "      <td>...</td>\n",
              "      <td>...</td>\n",
              "      <td>...</td>\n",
              "      <td>...</td>\n",
              "      <td>...</td>\n",
              "      <td>...</td>\n",
              "      <td>...</td>\n",
              "      <td>...</td>\n",
              "      <td>...</td>\n",
              "      <td>...</td>\n",
              "      <td>...</td>\n",
              "      <td>...</td>\n",
              "      <td>...</td>\n",
              "      <td>...</td>\n",
              "      <td>...</td>\n",
              "    </tr>\n",
              "    <tr>\n",
              "      <th>152</th>\n",
              "      <td>Volvo</td>\n",
              "      <td>V40</td>\n",
              "      <td>3.545</td>\n",
              "      <td>NaN</td>\n",
              "      <td>Passenger</td>\n",
              "      <td>24.40</td>\n",
              "      <td>1.9</td>\n",
              "      <td>160.0</td>\n",
              "      <td>100.5</td>\n",
              "      <td>67.6</td>\n",
              "      <td>176.6</td>\n",
              "      <td>3.042</td>\n",
              "      <td>15.8</td>\n",
              "      <td>25.0</td>\n",
              "      <td>9/21/2011</td>\n",
              "      <td>66.498812</td>\n",
              "    </tr>\n",
              "    <tr>\n",
              "      <th>153</th>\n",
              "      <td>Volvo</td>\n",
              "      <td>S70</td>\n",
              "      <td>15.245</td>\n",
              "      <td>NaN</td>\n",
              "      <td>Passenger</td>\n",
              "      <td>27.50</td>\n",
              "      <td>2.4</td>\n",
              "      <td>168.0</td>\n",
              "      <td>104.9</td>\n",
              "      <td>69.3</td>\n",
              "      <td>185.9</td>\n",
              "      <td>3.208</td>\n",
              "      <td>17.9</td>\n",
              "      <td>25.0</td>\n",
              "      <td>11/24/2012</td>\n",
              "      <td>70.654495</td>\n",
              "    </tr>\n",
              "    <tr>\n",
              "      <th>154</th>\n",
              "      <td>Volvo</td>\n",
              "      <td>V70</td>\n",
              "      <td>17.531</td>\n",
              "      <td>NaN</td>\n",
              "      <td>Passenger</td>\n",
              "      <td>28.80</td>\n",
              "      <td>2.4</td>\n",
              "      <td>168.0</td>\n",
              "      <td>104.9</td>\n",
              "      <td>69.3</td>\n",
              "      <td>186.2</td>\n",
              "      <td>3.259</td>\n",
              "      <td>17.9</td>\n",
              "      <td>25.0</td>\n",
              "      <td>6/25/2011</td>\n",
              "      <td>71.155978</td>\n",
              "    </tr>\n",
              "    <tr>\n",
              "      <th>155</th>\n",
              "      <td>Volvo</td>\n",
              "      <td>C70</td>\n",
              "      <td>3.493</td>\n",
              "      <td>NaN</td>\n",
              "      <td>Passenger</td>\n",
              "      <td>45.50</td>\n",
              "      <td>2.3</td>\n",
              "      <td>236.0</td>\n",
              "      <td>104.9</td>\n",
              "      <td>71.5</td>\n",
              "      <td>185.7</td>\n",
              "      <td>3.601</td>\n",
              "      <td>18.5</td>\n",
              "      <td>23.0</td>\n",
              "      <td>4/26/2011</td>\n",
              "      <td>101.623357</td>\n",
              "    </tr>\n",
              "    <tr>\n",
              "      <th>156</th>\n",
              "      <td>Volvo</td>\n",
              "      <td>S80</td>\n",
              "      <td>18.969</td>\n",
              "      <td>NaN</td>\n",
              "      <td>Passenger</td>\n",
              "      <td>36.00</td>\n",
              "      <td>2.9</td>\n",
              "      <td>201.0</td>\n",
              "      <td>109.9</td>\n",
              "      <td>72.1</td>\n",
              "      <td>189.8</td>\n",
              "      <td>3.600</td>\n",
              "      <td>21.1</td>\n",
              "      <td>24.0</td>\n",
              "      <td>11/14/2011</td>\n",
              "      <td>85.735655</td>\n",
              "    </tr>\n",
              "  </tbody>\n",
              "</table>\n",
              "<p>157 rows × 16 columns</p>\n",
              "</div>"
            ],
            "text/plain": [
              "    Manufacturer    Model  ...  Latest_Launch  Power_perf_factor\n",
              "0          Acura  Integra  ...       2/2/2012          58.280150\n",
              "1          Acura       TL  ...       6/3/2011          91.370778\n",
              "2          Acura       CL  ...       1/4/2012                NaN\n",
              "3          Acura       RL  ...      3/10/2011          91.389779\n",
              "4           Audi       A4  ...      10/8/2011          62.777639\n",
              "..           ...      ...  ...            ...                ...\n",
              "152        Volvo      V40  ...      9/21/2011          66.498812\n",
              "153        Volvo      S70  ...     11/24/2012          70.654495\n",
              "154        Volvo      V70  ...      6/25/2011          71.155978\n",
              "155        Volvo      C70  ...      4/26/2011         101.623357\n",
              "156        Volvo      S80  ...     11/14/2011          85.735655\n",
              "\n",
              "[157 rows x 16 columns]"
            ]
          },
          "metadata": {
            "tags": []
          },
          "execution_count": 5
        }
      ]
    },
    {
      "cell_type": "code",
      "metadata": {
        "colab": {
          "base_uri": "https://localhost:8080/",
          "height": 419
        },
        "id": "F5U1WY_WgA2f",
        "outputId": "a2ae1fdb-4fbe-4a4a-c984-23883e8bc36d"
      },
      "source": [
        "datanew= df[['Manufacturer', 'Model', 'Sales_in_thousands','Price_in_thousands']]\n",
        "datanew"
      ],
      "execution_count": null,
      "outputs": [
        {
          "output_type": "execute_result",
          "data": {
            "text/html": [
              "<div>\n",
              "<style scoped>\n",
              "    .dataframe tbody tr th:only-of-type {\n",
              "        vertical-align: middle;\n",
              "    }\n",
              "\n",
              "    .dataframe tbody tr th {\n",
              "        vertical-align: top;\n",
              "    }\n",
              "\n",
              "    .dataframe thead th {\n",
              "        text-align: right;\n",
              "    }\n",
              "</style>\n",
              "<table border=\"1\" class=\"dataframe\">\n",
              "  <thead>\n",
              "    <tr style=\"text-align: right;\">\n",
              "      <th></th>\n",
              "      <th>Manufacturer</th>\n",
              "      <th>Model</th>\n",
              "      <th>Sales_in_thousands</th>\n",
              "      <th>Price_in_thousands</th>\n",
              "    </tr>\n",
              "  </thead>\n",
              "  <tbody>\n",
              "    <tr>\n",
              "      <th>0</th>\n",
              "      <td>Acura</td>\n",
              "      <td>Integra</td>\n",
              "      <td>16.919</td>\n",
              "      <td>21.50</td>\n",
              "    </tr>\n",
              "    <tr>\n",
              "      <th>1</th>\n",
              "      <td>Acura</td>\n",
              "      <td>TL</td>\n",
              "      <td>39.384</td>\n",
              "      <td>28.40</td>\n",
              "    </tr>\n",
              "    <tr>\n",
              "      <th>2</th>\n",
              "      <td>Acura</td>\n",
              "      <td>CL</td>\n",
              "      <td>14.114</td>\n",
              "      <td>NaN</td>\n",
              "    </tr>\n",
              "    <tr>\n",
              "      <th>3</th>\n",
              "      <td>Acura</td>\n",
              "      <td>RL</td>\n",
              "      <td>8.588</td>\n",
              "      <td>42.00</td>\n",
              "    </tr>\n",
              "    <tr>\n",
              "      <th>4</th>\n",
              "      <td>Audi</td>\n",
              "      <td>A4</td>\n",
              "      <td>20.397</td>\n",
              "      <td>23.99</td>\n",
              "    </tr>\n",
              "    <tr>\n",
              "      <th>...</th>\n",
              "      <td>...</td>\n",
              "      <td>...</td>\n",
              "      <td>...</td>\n",
              "      <td>...</td>\n",
              "    </tr>\n",
              "    <tr>\n",
              "      <th>152</th>\n",
              "      <td>Volvo</td>\n",
              "      <td>V40</td>\n",
              "      <td>3.545</td>\n",
              "      <td>24.40</td>\n",
              "    </tr>\n",
              "    <tr>\n",
              "      <th>153</th>\n",
              "      <td>Volvo</td>\n",
              "      <td>S70</td>\n",
              "      <td>15.245</td>\n",
              "      <td>27.50</td>\n",
              "    </tr>\n",
              "    <tr>\n",
              "      <th>154</th>\n",
              "      <td>Volvo</td>\n",
              "      <td>V70</td>\n",
              "      <td>17.531</td>\n",
              "      <td>28.80</td>\n",
              "    </tr>\n",
              "    <tr>\n",
              "      <th>155</th>\n",
              "      <td>Volvo</td>\n",
              "      <td>C70</td>\n",
              "      <td>3.493</td>\n",
              "      <td>45.50</td>\n",
              "    </tr>\n",
              "    <tr>\n",
              "      <th>156</th>\n",
              "      <td>Volvo</td>\n",
              "      <td>S80</td>\n",
              "      <td>18.969</td>\n",
              "      <td>36.00</td>\n",
              "    </tr>\n",
              "  </tbody>\n",
              "</table>\n",
              "<p>157 rows × 4 columns</p>\n",
              "</div>"
            ],
            "text/plain": [
              "    Manufacturer    Model  Sales_in_thousands  Price_in_thousands\n",
              "0          Acura  Integra              16.919               21.50\n",
              "1          Acura       TL              39.384               28.40\n",
              "2          Acura       CL              14.114                 NaN\n",
              "3          Acura       RL               8.588               42.00\n",
              "4           Audi       A4              20.397               23.99\n",
              "..           ...      ...                 ...                 ...\n",
              "152        Volvo      V40               3.545               24.40\n",
              "153        Volvo      S70              15.245               27.50\n",
              "154        Volvo      V70              17.531               28.80\n",
              "155        Volvo      C70               3.493               45.50\n",
              "156        Volvo      S80              18.969               36.00\n",
              "\n",
              "[157 rows x 4 columns]"
            ]
          },
          "metadata": {
            "tags": []
          },
          "execution_count": 28
        }
      ]
    },
    {
      "cell_type": "code",
      "metadata": {
        "colab": {
          "base_uri": "https://localhost:8080/",
          "height": 142
        },
        "id": "GRCSc8YsiLOx",
        "outputId": "e8c63453-98cf-459c-cbe7-47c381dc9b23"
      },
      "source": [
        "data_audi=datanew[(datanew['Manufacturer']=='Audi')]\n",
        "data_audi"
      ],
      "execution_count": null,
      "outputs": [
        {
          "output_type": "execute_result",
          "data": {
            "text/html": [
              "<div>\n",
              "<style scoped>\n",
              "    .dataframe tbody tr th:only-of-type {\n",
              "        vertical-align: middle;\n",
              "    }\n",
              "\n",
              "    .dataframe tbody tr th {\n",
              "        vertical-align: top;\n",
              "    }\n",
              "\n",
              "    .dataframe thead th {\n",
              "        text-align: right;\n",
              "    }\n",
              "</style>\n",
              "<table border=\"1\" class=\"dataframe\">\n",
              "  <thead>\n",
              "    <tr style=\"text-align: right;\">\n",
              "      <th></th>\n",
              "      <th>Manufacturer</th>\n",
              "      <th>Model</th>\n",
              "      <th>Sales_in_thousands</th>\n",
              "      <th>Price_in_thousands</th>\n",
              "    </tr>\n",
              "  </thead>\n",
              "  <tbody>\n",
              "    <tr>\n",
              "      <th>4</th>\n",
              "      <td>Audi</td>\n",
              "      <td>A4</td>\n",
              "      <td>20.397</td>\n",
              "      <td>23.99</td>\n",
              "    </tr>\n",
              "    <tr>\n",
              "      <th>5</th>\n",
              "      <td>Audi</td>\n",
              "      <td>A6</td>\n",
              "      <td>18.780</td>\n",
              "      <td>33.95</td>\n",
              "    </tr>\n",
              "    <tr>\n",
              "      <th>6</th>\n",
              "      <td>Audi</td>\n",
              "      <td>A8</td>\n",
              "      <td>1.380</td>\n",
              "      <td>62.00</td>\n",
              "    </tr>\n",
              "  </tbody>\n",
              "</table>\n",
              "</div>"
            ],
            "text/plain": [
              "  Manufacturer Model  Sales_in_thousands  Price_in_thousands\n",
              "4         Audi    A4              20.397               23.99\n",
              "5         Audi    A6              18.780               33.95\n",
              "6         Audi    A8               1.380               62.00"
            ]
          },
          "metadata": {
            "tags": []
          },
          "execution_count": 33
        }
      ]
    },
    {
      "cell_type": "markdown",
      "metadata": {
        "id": "afPep-Xwtdp8"
      },
      "source": [
        "# **Plot dengan Matplotlib**"
      ]
    },
    {
      "cell_type": "code",
      "metadata": {
        "colab": {
          "base_uri": "https://localhost:8080/",
          "height": 295
        },
        "id": "mkzUG3i5sZIm",
        "outputId": "de503bd3-a44b-4bff-d51a-6402c1b36a09"
      },
      "source": [
        "x=data_audi['Model']\n",
        "y=data_audi['Sales_in_thousands']\n",
        "plt.title('Grafik Penjualan Mobil Audi')\n",
        "plt.xlabel('Model')\n",
        "plt.ylabel('Sales in thousands')\n",
        "plt.plot(x,y,'y')\n",
        "plt.show()"
      ],
      "execution_count": null,
      "outputs": [
        {
          "output_type": "display_data",
          "data": {
            "image/png": "[encoded data removed]",
            "text/plain": [
              "<Figure size 432x288 with 1 Axes>"
            ]
          },
          "metadata": {
            "tags": [],
            "needs_background": "light"
          }
        }
      ]
    },
    {
      "cell_type": "code",
      "metadata": {
        "colab": {
          "base_uri": "https://localhost:8080/",
          "height": 295
        },
        "id": "XI-T02YFsyTb",
        "outputId": "45c93897-b8d5-485c-a5ae-d77d72b471f9"
      },
      "source": [
        "x=data_audi['Model']\n",
        "y=data_audi['Sales_in_thousands']\n",
        "plt.title('Grafik Penjualan Mobil Audi')\n",
        "plt.xlabel('Model')\n",
        "plt.ylabel('Sales in thousands')\n",
        "plt.bar(x,y, color='green')\n",
        "plt.show()"
      ],
      "execution_count": null,
      "outputs": [
        {
          "output_type": "display_data",
          "data": {
            "image/png": "[encoded data removed]",
            "text/plain": [
              "<Figure size 432x288 with 1 Axes>"
            ]
          },
          "metadata": {
            "tags": [],
            "needs_background": "light"
          }
        }
      ]
    },
    {
      "cell_type": "code",
      "metadata": {
        "colab": {
          "base_uri": "https://localhost:8080/",
          "height": 248
        },
        "id": "fs8_6izUtaEm",
        "outputId": "b5f96f58-d525-4f28-bce0-11ee81b5a491"
      },
      "source": [
        "# Pie Chart\n",
        "\n",
        "x=data_audi['Model']\n",
        "y=data_audi['Sales_in_thousands']\n",
        "e=[0,0,0.1]\n",
        "\n",
        "plt.pie(y, explode=e, autopct=\"%.1f%%\", labels= x, shadow=True, startangle=45)\n",
        "plt.axis('equal')\n",
        "plt.legend(title='Penjualan Mobil Audi')\n",
        "plt.show()"
      ],
      "execution_count": null,
      "outputs": [
        {
          "output_type": "display_data",
          "data": {
            "image/png": "[encoded data removed]",
            "text/plain": [
              "<Figure size 432x288 with 1 Axes>"
            ]
          },
          "metadata": {
            "tags": []
          }
        }
      ]
    },
    {
      "cell_type": "markdown",
      "metadata": {
        "id": "9enXXSFDuPNE"
      },
      "source": [
        "## **Plot dengan Seaborn**"
      ]
    },
    {
      "cell_type": "code",
      "metadata": {
        "colab": {
          "base_uri": "https://localhost:8080/",
          "height": 295
        },
        "id": "8glc0eEe1GFm",
        "outputId": "91c83429-0931-443b-8daf-a0e6b3f68e09"
      },
      "source": [
        "sns.lineplot(x='Model',y='Sales_in_thousands', data=data_audi)\n",
        "plt.title('Grafik Penjualan Mobil Audi')\n",
        "plt.show()"
      ],
      "execution_count": null,
      "outputs": [
        {
          "output_type": "display_data",
          "data": {
            "image/png": "[encoded data removed]",
            "text/plain": [
              "<Figure size 432x288 with 1 Axes>"
            ]
          },
          "metadata": {
            "tags": [],
            "needs_background": "light"
          }
        }
      ]
    },
    {
      "cell_type": "code",
      "metadata": {
        "colab": {
          "base_uri": "https://localhost:8080/",
          "height": 295
        },
        "id": "wXiyJgMSuD_6",
        "outputId": "466ff04a-05f6-4f37-8262-4c21c8c9487c"
      },
      "source": [
        "sns.barplot(x='Model',y='Sales_in_thousands', data=data_audi)\n",
        "plt.title('Grafik Penjualan Mobil Audi')\n",
        "plt.show()"
      ],
      "execution_count": null,
      "outputs": [
        {
          "output_type": "display_data",
          "data": {
            "image/png": "[encoded data removed]",
            "text/plain": [
              "<Figure size 432x288 with 1 Axes>"
            ]
          },
          "metadata": {
            "tags": [],
            "needs_background": "light"
          }
        }
      ]
    },
    {
      "cell_type": "code",
      "metadata": {
        "colab": {
          "base_uri": "https://localhost:8080/",
          "height": 264
        },
        "id": "ggXCqaGLu_cJ",
        "outputId": "390eac23-f6de-4b3d-d201-67d209a39825"
      },
      "source": [
        "x=data_audi['Model']\n",
        "y=data_audi['Sales_in_thousands']\n",
        "colors = sns.color_palette('pastel')\n",
        "plt.pie(y, labels = x, colors = colors, autopct='%.0f%%')\n",
        "plt.title('Grafik Penjualan Mobil Audi')\n",
        "plt.show()"
      ],
      "execution_count": null,
      "outputs": [
        {
          "output_type": "display_data",
          "data": {
            "image/png": "[encoded data removed]",
            "text/plain": [
              "<Figure size 432x288 with 1 Axes>"
            ]
          },
          "metadata": {
            "tags": []
          }
        }
      ]
    }
  ]
}